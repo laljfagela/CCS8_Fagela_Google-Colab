{
  "nbformat": 4,
  "nbformat_minor": 0,
  "metadata": {
    "colab": {
      "provenance": [],
      "authorship_tag": "ABX9TyNTun3Ns8K8xtUXgFglXAzB",
      "include_colab_link": true
    },
    "kernelspec": {
      "name": "python3",
      "display_name": "Python 3"
    },
    "language_info": {
      "name": "python"
    }
  },
  "cells": [
    {
      "cell_type": "markdown",
      "metadata": {
        "id": "view-in-github",
        "colab_type": "text"
      },
      "source": [
        "<a href=\"https://colab.research.google.com/github/laljfagela/CCS8_Fagela_Google-Colab/blob/main/Lab_Challenge_4_Model_Evaluation_and_Validation.ipynb\" target=\"_parent\"><img src=\"https://colab.research.google.com/assets/colab-badge.svg\" alt=\"Open In Colab\"/></a>"
      ]
    },
    {
      "cell_type": "markdown",
      "source": [
        "FAGELA, Lucci Ania Luisse J.\n",
        "\n",
        "\n",
        "CC19 2C TThS"
      ],
      "metadata": {
        "id": "yZkAABRe3sM3"
      }
    },
    {
      "cell_type": "code",
      "execution_count": null,
      "metadata": {
        "colab": {
          "base_uri": "https://localhost:8080/"
        },
        "collapsed": true,
        "id": "KGFYMV8O11ED",
        "outputId": "d0a0c576-9f09-49e5-8c3b-863875546cf9"
      },
      "outputs": [
        {
          "output_type": "stream",
          "name": "stdout",
          "text": [
            "Requirement already satisfied: scikit-learn in /usr/local/lib/python3.11/dist-packages (1.6.1)\n",
            "Requirement already satisfied: pandas in /usr/local/lib/python3.11/dist-packages (2.2.2)\n",
            "Requirement already satisfied: numpy in /usr/local/lib/python3.11/dist-packages (1.26.4)\n",
            "Requirement already satisfied: matplotlib in /usr/local/lib/python3.11/dist-packages (3.10.0)\n",
            "Requirement already satisfied: scipy>=1.6.0 in /usr/local/lib/python3.11/dist-packages (from scikit-learn) (1.14.1)\n",
            "Requirement already satisfied: joblib>=1.2.0 in /usr/local/lib/python3.11/dist-packages (from scikit-learn) (1.4.2)\n",
            "Requirement already satisfied: threadpoolctl>=3.1.0 in /usr/local/lib/python3.11/dist-packages (from scikit-learn) (3.5.0)\n",
            "Requirement already satisfied: python-dateutil>=2.8.2 in /usr/local/lib/python3.11/dist-packages (from pandas) (2.8.2)\n",
            "Requirement already satisfied: pytz>=2020.1 in /usr/local/lib/python3.11/dist-packages (from pandas) (2025.1)\n",
            "Requirement already satisfied: tzdata>=2022.7 in /usr/local/lib/python3.11/dist-packages (from pandas) (2025.1)\n",
            "Requirement already satisfied: contourpy>=1.0.1 in /usr/local/lib/python3.11/dist-packages (from matplotlib) (1.3.1)\n",
            "Requirement already satisfied: cycler>=0.10 in /usr/local/lib/python3.11/dist-packages (from matplotlib) (0.12.1)\n",
            "Requirement already satisfied: fonttools>=4.22.0 in /usr/local/lib/python3.11/dist-packages (from matplotlib) (4.56.0)\n",
            "Requirement already satisfied: kiwisolver>=1.3.1 in /usr/local/lib/python3.11/dist-packages (from matplotlib) (1.4.8)\n",
            "Requirement already satisfied: packaging>=20.0 in /usr/local/lib/python3.11/dist-packages (from matplotlib) (24.2)\n",
            "Requirement already satisfied: pillow>=8 in /usr/local/lib/python3.11/dist-packages (from matplotlib) (11.1.0)\n",
            "Requirement already satisfied: pyparsing>=2.3.1 in /usr/local/lib/python3.11/dist-packages (from matplotlib) (3.2.1)\n",
            "Requirement already satisfied: six>=1.5 in /usr/local/lib/python3.11/dist-packages (from python-dateutil>=2.8.2->pandas) (1.17.0)\n"
          ]
        }
      ],
      "source": [
        "!pip install scikit-learn pandas numpy matplotlib"
      ]
    },
    {
      "cell_type": "markdown",
      "source": [
        "# Part 1\n"
      ],
      "metadata": {
        "id": "d1WrXyw-7pKW"
      }
    },
    {
      "cell_type": "markdown",
      "source": [
        "# Step 1: Understanding Cross-Validation"
      ],
      "metadata": {
        "id": "EKlelx4q6QgO"
      }
    },
    {
      "cell_type": "code",
      "source": [
        "from sklearn.datasets import load_iris\n",
        "from sklearn.model_selection import train_test_split, cross_val_score\n",
        "from sklearn.tree import DecisionTreeClassifier\n",
        "from sklearn.model_selection import KFold\n",
        "\n",
        "from sklearn.linear_model import LogisticRegression\n",
        "from sklearn.ensemble import RandomForestClassifier\n",
        "\n",
        "import matplotlib.pyplot as plt\n",
        "from sklearn.metrics import accuracy_score\n",
        "\n",
        "import numpy as np"
      ],
      "metadata": {
        "id": "eXOLV-JA5leH"
      },
      "execution_count": null,
      "outputs": []
    },
    {
      "cell_type": "markdown",
      "source": [
        "# Step 2: Load the Dataset"
      ],
      "metadata": {
        "id": "Ws-XbMrk6MWu"
      }
    },
    {
      "cell_type": "code",
      "source": [
        "#Load dataset\n",
        "iris = load_iris()\n",
        "x,y = iris.data, iris.target"
      ],
      "metadata": {
        "id": "dzJ23_755v__"
      },
      "execution_count": null,
      "outputs": []
    },
    {
      "cell_type": "code",
      "source": [
        "#Split data\n",
        "X_train, X_test, y_train, y_test = train_test_split(x,y,test_size=0.2, random_state=42)"
      ],
      "metadata": {
        "id": "k-LL04oh50Tu"
      },
      "execution_count": null,
      "outputs": []
    },
    {
      "cell_type": "markdown",
      "source": [
        "**Analysis:**\n",
        "\n",
        "*What happens when depth is too small?*\n",
        "\n",
        "If tree depth is too small, it means that the model failedto capture the patterns in the data, potentially leading to poor performance.\n",
        "\n",
        "*What happens if depth is too large?*\n",
        "\n",
        "On the other hand, if the tree depth is too large, it leads to overfitting of which it fails to capture underlying patterns in the data and might potentially capture unrelated data and noise. Ultimately, leading to poor performance on both training and test sets.\n",
        "\n",
        "*How can we determine the optimal depth?*\n",
        "\n",
        "We can do this by using K-fold-cross-validation in which the training sets are divided into K eually sized subsets. It helps determine the error rate in the testing of data, a higher error rate in the testing indicates overfitting while the opposite indicates underfitting.\n",
        "\n",
        "\n",
        "\n",
        "\n",
        "\n",
        "\n",
        "\n"
      ],
      "metadata": {
        "id": "e4chKLTWX5Jl"
      }
    },
    {
      "cell_type": "markdown",
      "source": [
        "# Step 3: Implement Cross-Validation"
      ],
      "metadata": {
        "id": "wWN1q2jP6V3u"
      }
    },
    {
      "cell_type": "code",
      "source": [
        "model = DecisionTreeClassifier()\n",
        "kfold = KFold(n_splits=5, shuffle=True, random_state=42)\n",
        "scores = cross_val_score(model, x, y, cv=kfold)\n",
        "\n",
        "print(\"Cross-validation scores:\", scores)\n",
        "print(\"Mean accuracy:\", np.mean(scores))"
      ],
      "metadata": {
        "colab": {
          "base_uri": "https://localhost:8080/"
        },
        "id": "0gSpGiyk6J6P",
        "outputId": "61a41f72-0e67-42c9-f678-1fe93325cc87"
      },
      "execution_count": null,
      "outputs": [
        {
          "output_type": "stream",
          "name": "stdout",
          "text": [
            "Cross-validation scores: [1.         0.96666667 0.93333333 0.93333333 0.93333333]\n",
            "Mean accuracy: 0.9533333333333335\n"
          ]
        }
      ]
    },
    {
      "cell_type": "markdown",
      "source": [
        "**Analysis:**\n",
        "\n",
        "*What does cross-validation do?*\n",
        "\n",
        "Cross-validation evaluates the performance of the model by splitting the data into multiple subsets. It helps ensure that a model hs the ability to reflect and generalize data.\n",
        "\n",
        "\n",
        "*Why do we take the mean accuracy?*\n",
        "\n",
        "It is to provide a more reliable and unbiased estimate of a model's performane. In detail:\n",
        "\n",
        "\n",
        "*   Reduce Variability - averaging the accuracy smooths out the variations providing a stable estimate of the performance.\n",
        "*   Generalization Assessment - reflects how well the model generalizes data\n",
        "*   Avoid overfitting or underfitting - helps detect possibilities of overfitting and underfitting ensuring that the model is not to complex nor too simple.\n",
        "\n",
        "\n",
        "\n",
        "\n",
        "\n",
        "\n"
      ],
      "metadata": {
        "id": "G-LWCczn69Wv"
      }
    },
    {
      "cell_type": "markdown",
      "source": [
        "# Part 2: Detecting Overfitting & Underfitting"
      ],
      "metadata": {
        "id": "zQRjo0T-7U1u"
      }
    },
    {
      "cell_type": "code",
      "source": [
        "train_scores = []\n",
        "test_scores = []\n",
        "depths = range (1,11)"
      ],
      "metadata": {
        "id": "9q3m1jI47KzX"
      },
      "execution_count": null,
      "outputs": []
    },
    {
      "cell_type": "code",
      "source": [
        "for depth in depths:\n",
        "  model = DecisionTreeClassifier(max_depth=depth)\n",
        "  model.fit(X_train, y_train)\n",
        "\n",
        "  train_scores.append(accuracy_score(y_train, model.predict(X_train)))\n",
        "  test_scores.append(accuracy_score(y_test, model.predict(X_test)))"
      ],
      "metadata": {
        "id": "uPWVKUD56813"
      },
      "execution_count": null,
      "outputs": []
    },
    {
      "cell_type": "code",
      "source": [
        "plt.figure(figsize=(8,5))\n",
        "plt.plot(depths, train_scores, label='Train Accuracy', marker='o')\n",
        "plt.plot(depths, test_scores, label='Test Accuracy', marker='s')\n",
        "plt.xlabel('Tree Depth')\n",
        "plt.ylabel(\"Accuracy\")\n",
        "plt.legend()\n",
        "plt.title(\"Overfitting and UNderfitting\")\n",
        "plt.show()"
      ],
      "metadata": {
        "colab": {
          "base_uri": "https://localhost:8080/",
          "height": 487
        },
        "id": "4xbP8x2y8Y6W",
        "outputId": "fe878f38-1ffd-44b6-8529-2da7aa42b808"
      },
      "execution_count": null,
      "outputs": [
        {
          "output_type": "display_data",
          "data": {
            "text/plain": [
              "<Figure size 800x500 with 1 Axes>"
            ],
            "image/png": "[encoded data removed]"
          },
          "metadata": {}
        }
      ]
    },
    {
      "cell_type": "markdown",
      "source": [
        "# Part 3: Bias-Variance Tradeoff\n"
      ],
      "metadata": {
        "id": "QTtVzFzz8wA2"
      }
    },
    {
      "cell_type": "code",
      "source": [
        "log_model = LogisticRegression(max_iter=1000)\n",
        "rf_model = RandomForestClassifier(n_estimators=100)\n",
        "\n",
        "log_model.fit(X_train, y_train)\n",
        "rf_model.fit(X_train, y_train)\n",
        "\n",
        "log_train_acc = accuracy_score(y_train, log_model.predict(X_train))\n",
        "log_test_acc = accuracy_score(y_test, log_model.predict(X_test))\n",
        "\n",
        "rf_train_acc = accuracy_score(y_train, rf_model.predict(X_train))\n",
        "rf_test_acc = accuracy_score(y_test, rf_model.predict(X_test))\n",
        "\n",
        "print(f\"Logistic Regression = Train: {log_train_acc:.3f}, Test: {log_test_acc:.3f}\")\n",
        "print(f\"Random Forest = Train: {rf_train_acc:.3f}, Test: {rf_test_acc: .3f}\")"
      ],
      "metadata": {
        "colab": {
          "base_uri": "https://localhost:8080/"
        },
        "id": "3nHH4rZi9UpG",
        "outputId": "642a80e7-0a06-4565-c8cd-cb64985f18ce"
      },
      "execution_count": null,
      "outputs": [
        {
          "output_type": "stream",
          "name": "stdout",
          "text": [
            "Logistic Regression = Train: 0.975, Test: 1.000\n",
            "Random Forest = Train: 1.000, Test:  1.000\n"
          ]
        }
      ]
    },
    {
      "cell_type": "markdown",
      "source": [
        "**Analysis**\n",
        "\n",
        "*Which model has higher training accuracy?*\n",
        "\n",
        "Random Forest\n",
        "\n",
        "*Which model generalized better to the test set?*\n",
        "\n",
        "Random Forest - while both models achieved a 1.000 score on the test, the random forest achieved a perfect score on both the train and test, making it better than Logistic Regression\n",
        "\n",
        "\n",
        "*How does this relate to the bias-variance tradeoff?*\n",
        "\n",
        "The tradeoff aids in balancing the model's simplicity and ability to fit the data. Given that the Random Forest was able to achieve a perfect score on both training and test sets, it indicates that it is complex enough to capture the underlying patterns without resulting to overfitting and uderfitting. while the Logistic Regression might potentially have a slightly higher bias since, according to its score, it doesn't fit the training data well."
      ],
      "metadata": {
        "id": "fs7zR6_l9wVm"
      }
    }
  ]
}